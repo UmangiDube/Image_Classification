{
 "cells": [
  {
   "cell_type": "code",
   "execution_count": 1,
   "id": "c2965a04",
   "metadata": {
    "execution": {
     "iopub.execute_input": "2024-04-14T04:21:29.666873Z",
     "iopub.status.busy": "2024-04-14T04:21:29.666287Z",
     "iopub.status.idle": "2024-04-14T04:21:29.672773Z",
     "shell.execute_reply": "2024-04-14T04:21:29.671923Z"
    },
    "papermill": {
     "duration": 0.021635,
     "end_time": "2024-04-14T04:21:29.675035",
     "exception": false,
     "start_time": "2024-04-14T04:21:29.653400",
     "status": "completed"
    },
    "tags": []
   },
   "outputs": [],
   "source": [
    "# This Python 3 environment comes with many helpful analytics libraries installed\n",
    "# It is defined by the kaggle/python Docker image: https://github.com/kaggle/docker-python\n",
    "# For example, here's several helpful packages to load\n",
    "\n",
    "#import numpy as np # linear algebra\n",
    "#import pandas as pd # data processing, CSV file I/O (e.g. pd.read_csv)\n",
    "\n",
    "# Input data files are available in the read-only \"../input/\" directory\n",
    "# For example, running this (by clicking run or pressing Shift+Enter) will list all files under the input directory\n",
    "\n",
    "#import os\n",
    "#for dirname, _, filenames in os.walk('/kaggle/input'):\n",
    "#    for filename in filenames:\n",
    "#        print(os.path.join(dirname, filename))\n",
    "\n",
    "# You can write up to 20GB to the current directory (/kaggle/working/) that gets preserved as output when you create a version using \"Save & Run All\" \n",
    "# You can also write temporary files to /kaggle/temp/, but they won't be saved outside of the current session"
   ]
  },
  {
   "cell_type": "markdown",
   "id": "88b0cb76",
   "metadata": {
    "papermill": {
     "duration": 0.008753,
     "end_time": "2024-04-14T04:21:29.693160",
     "exception": false,
     "start_time": "2024-04-14T04:21:29.684407",
     "status": "completed"
    },
    "tags": []
   },
   "source": [
    "# **Image Classification Using CNN**"
   ]
  },
  {
   "cell_type": "code",
   "execution_count": 2,
   "id": "6f33c837",
   "metadata": {
    "execution": {
     "iopub.execute_input": "2024-04-14T04:21:29.713134Z",
     "iopub.status.busy": "2024-04-14T04:21:29.712308Z",
     "iopub.status.idle": "2024-04-14T04:21:45.256232Z",
     "shell.execute_reply": "2024-04-14T04:21:45.254922Z"
    },
    "papermill": {
     "duration": 15.556893,
     "end_time": "2024-04-14T04:21:45.258924",
     "exception": false,
     "start_time": "2024-04-14T04:21:29.702031",
     "status": "completed"
    },
    "tags": []
   },
   "outputs": [
    {
     "name": "stderr",
     "output_type": "stream",
     "text": [
      "2024-04-14 04:21:32.954161: E external/local_xla/xla/stream_executor/cuda/cuda_dnn.cc:9261] Unable to register cuDNN factory: Attempting to register factory for plugin cuDNN when one has already been registered\n",
      "2024-04-14 04:21:32.954320: E external/local_xla/xla/stream_executor/cuda/cuda_fft.cc:607] Unable to register cuFFT factory: Attempting to register factory for plugin cuFFT when one has already been registered\n",
      "2024-04-14 04:21:33.129853: E external/local_xla/xla/stream_executor/cuda/cuda_blas.cc:1515] Unable to register cuBLAS factory: Attempting to register factory for plugin cuBLAS when one has already been registered\n"
     ]
    }
   ],
   "source": [
    "import os\n",
    "import pandas as pd\n",
    "import numpy as np\n",
    "import matplotlib.pyplot as plt\n",
    "import tensorflow as tf\n",
    "%matplotlib inline\n",
    "from tensorflow import keras\n",
    "from keras import preprocessing"
   ]
  },
  {
   "cell_type": "code",
   "execution_count": 3,
   "id": "d1f9ae17",
   "metadata": {
    "execution": {
     "iopub.execute_input": "2024-04-14T04:21:45.279712Z",
     "iopub.status.busy": "2024-04-14T04:21:45.279012Z",
     "iopub.status.idle": "2024-04-14T04:21:45.286144Z",
     "shell.execute_reply": "2024-04-14T04:21:45.284915Z"
    },
    "papermill": {
     "duration": 0.02019,
     "end_time": "2024-04-14T04:21:45.288850",
     "exception": false,
     "start_time": "2024-04-14T04:21:45.268660",
     "status": "completed"
    },
    "tags": []
   },
   "outputs": [],
   "source": [
    "from tensorflow.keras.preprocessing.image import ImageDataGenerator"
   ]
  },
  {
   "cell_type": "code",
   "execution_count": 4,
   "id": "859e07b2",
   "metadata": {
    "execution": {
     "iopub.execute_input": "2024-04-14T04:21:45.308879Z",
     "iopub.status.busy": "2024-04-14T04:21:45.308484Z",
     "iopub.status.idle": "2024-04-14T04:21:45.313698Z",
     "shell.execute_reply": "2024-04-14T04:21:45.312528Z"
    },
    "papermill": {
     "duration": 0.017896,
     "end_time": "2024-04-14T04:21:45.315947",
     "exception": false,
     "start_time": "2024-04-14T04:21:45.298051",
     "status": "completed"
    },
    "tags": []
   },
   "outputs": [],
   "source": [
    "train_dataset = '/kaggle/input/image-classification/seg_train/seg_train'\n",
    "test_dataset = '/kaggle/input/image-classification/seg_test/seg_test'"
   ]
  },
  {
   "cell_type": "code",
   "execution_count": 5,
   "id": "18fe0c71",
   "metadata": {
    "execution": {
     "iopub.execute_input": "2024-04-14T04:21:45.336847Z",
     "iopub.status.busy": "2024-04-14T04:21:45.335711Z",
     "iopub.status.idle": "2024-04-14T04:21:45.340492Z",
     "shell.execute_reply": "2024-04-14T04:21:45.339643Z"
    },
    "papermill": {
     "duration": 0.01722,
     "end_time": "2024-04-14T04:21:45.342541",
     "exception": false,
     "start_time": "2024-04-14T04:21:45.325321",
     "status": "completed"
    },
    "tags": []
   },
   "outputs": [],
   "source": [
    "IMG_WIDTH = 150\n",
    "IMG_HEIGHT = 150\n",
    "BATCH_SIZE = 32"
   ]
  },
  {
   "cell_type": "markdown",
   "id": "cfbb8348",
   "metadata": {
    "papermill": {
     "duration": 0.008744,
     "end_time": "2024-04-14T04:21:45.360268",
     "exception": false,
     "start_time": "2024-04-14T04:21:45.351524",
     "status": "completed"
    },
    "tags": []
   },
   "source": [
    "**ImageDataGenerator** class ensures that the model receives new variations of the images at each epoch. But it only returns the transformed images and does not add it to the original corpus of images."
   ]
  },
  {
   "cell_type": "code",
   "execution_count": 6,
   "id": "c8475df0",
   "metadata": {
    "execution": {
     "iopub.execute_input": "2024-04-14T04:21:45.380718Z",
     "iopub.status.busy": "2024-04-14T04:21:45.379989Z",
     "iopub.status.idle": "2024-04-14T04:21:45.384858Z",
     "shell.execute_reply": "2024-04-14T04:21:45.383750Z"
    },
    "papermill": {
     "duration": 0.017932,
     "end_time": "2024-04-14T04:21:45.387265",
     "exception": false,
     "start_time": "2024-04-14T04:21:45.369333",
     "status": "completed"
    },
    "tags": []
   },
   "outputs": [],
   "source": [
    "rescaled = ImageDataGenerator(1/255)"
   ]
  },
  {
   "cell_type": "markdown",
   "id": "1a7486ac",
   "metadata": {
    "papermill": {
     "duration": 0.00881,
     "end_time": "2024-04-14T04:21:45.406131",
     "exception": false,
     "start_time": "2024-04-14T04:21:45.397321",
     "status": "completed"
    },
    "tags": []
   },
   "source": [
    "**image_dataset_from_directory** function. Generates a tf.data.Dataset from image files in a directory."
   ]
  },
  {
   "cell_type": "code",
   "execution_count": 7,
   "id": "deadc8a0",
   "metadata": {
    "execution": {
     "iopub.execute_input": "2024-04-14T04:21:45.426279Z",
     "iopub.status.busy": "2024-04-14T04:21:45.425855Z",
     "iopub.status.idle": "2024-04-14T04:21:55.349769Z",
     "shell.execute_reply": "2024-04-14T04:21:55.348802Z"
    },
    "papermill": {
     "duration": 9.937476,
     "end_time": "2024-04-14T04:21:55.352665",
     "exception": false,
     "start_time": "2024-04-14T04:21:45.415189",
     "status": "completed"
    },
    "tags": []
   },
   "outputs": [
    {
     "name": "stdout",
     "output_type": "stream",
     "text": [
      "Found 14034 files belonging to 6 classes.\n",
      "Using 11228 files for training.\n",
      "Found 3000 files belonging to 6 classes.\n",
      "Using 600 files for validation.\n"
     ]
    }
   ],
   "source": [
    "train_set = tf.keras.utils.image_dataset_from_directory(train_dataset, image_size=(128, 128), \n",
    "                                                        batch_size=32, label_mode='categorical',\n",
    "                                                       subset='training', validation_split=0.2, seed=42)\n",
    "test_set = tf.keras.utils.image_dataset_from_directory(test_dataset, image_size=(128, 128),\n",
    "                                                      batch_size=32, label_mode='categorical',\n",
    "                                                      subset='validation', validation_split=0.2, seed=42)"
   ]
  },
  {
   "cell_type": "markdown",
   "id": "3b73e643",
   "metadata": {
    "papermill": {
     "duration": 0.009165,
     "end_time": "2024-04-14T04:21:55.371406",
     "exception": false,
     "start_time": "2024-04-14T04:21:55.362241",
     "status": "completed"
    },
    "tags": []
   },
   "source": [
    "**Sequential** The function will execute and create each model layer one by one. \n",
    "The input_shape is the argument of the sequential function that helps us define the layers that will be visible in the network"
   ]
  },
  {
   "cell_type": "code",
   "execution_count": 8,
   "id": "efdc13ab",
   "metadata": {
    "execution": {
     "iopub.execute_input": "2024-04-14T04:21:55.392261Z",
     "iopub.status.busy": "2024-04-14T04:21:55.391853Z",
     "iopub.status.idle": "2024-04-14T04:21:55.565664Z",
     "shell.execute_reply": "2024-04-14T04:21:55.564427Z"
    },
    "papermill": {
     "duration": 0.187437,
     "end_time": "2024-04-14T04:21:55.568453",
     "exception": false,
     "start_time": "2024-04-14T04:21:55.381016",
     "status": "completed"
    },
    "tags": []
   },
   "outputs": [
    {
     "name": "stderr",
     "output_type": "stream",
     "text": [
      "/opt/conda/lib/python3.10/site-packages/keras/src/layers/convolutional/base_conv.py:99: UserWarning: Do not pass an `input_shape`/`input_dim` argument to a layer. When using Sequential models, prefer using an `Input(shape)` object as the first layer in the model instead.\n",
      "  super().__init__(\n"
     ]
    }
   ],
   "source": [
    "model = tf.keras.models.Sequential([\n",
    "    tf.keras.layers.Conv2D(16, (3,3), activation='relu', input_shape=(128,128,3)),\n",
    "    tf.keras.layers.Conv2D(16, (3,3), activation='relu'),\n",
    "    tf.keras.layers.Conv2D(16, (3,3), activation='relu'),\n",
    "    tf.keras.layers.MaxPool2D(2,2), #1st layer\n",
    "    tf.keras.layers.Dropout(0.2),\n",
    "    tf.keras.layers.Conv2D(32, (3,3), activation='relu'),\n",
    "    tf.keras.layers.Conv2D(32, (3,3), activation='relu'),\n",
    "    tf.keras.layers.Conv2D(32, (3,3), activation='relu'),\n",
    "    tf.keras.layers.MaxPool2D(2,2), #2nd layer\n",
    "    tf.keras.layers.Dropout(0.2),\n",
    "    tf.keras.layers.Conv2D(64, (3,3), activation='relu'),\n",
    "    tf.keras.layers.Conv2D(64, (3,3), activation='relu'),\n",
    "    tf.keras.layers.Conv2D(64, (3,3), activation='relu'),\n",
    "    tf.keras.layers.MaxPool2D(2,2),  #3rd layer\n",
    "    tf.keras.layers.Dropout(0.2),\n",
    "    tf.keras.layers.Conv2D(128, (3,3), activation='relu'),\n",
    "    tf.keras.layers.Conv2D(128, (3,3), activation='relu'),\n",
    "    tf.keras.layers.Conv2D(128, (3,3), activation='relu'),\n",
    "    tf.keras.layers.MaxPool2D(2,2),  #4th layer\n",
    "    tf.keras.layers.Flatten(),\n",
    "    tf.keras.layers.Dense(128, activation='relu'),\n",
    "    tf.keras.layers.Dropout(0.2),\n",
    "    tf.keras.layers.Dense(6, activation='softmax')\n",
    "])"
   ]
  },
  {
   "cell_type": "markdown",
   "id": "b9fc1f64",
   "metadata": {
    "papermill": {
     "duration": 0.009554,
     "end_time": "2024-04-14T04:21:55.587658",
     "exception": false,
     "start_time": "2024-04-14T04:21:55.578104",
     "status": "completed"
    },
    "tags": []
   },
   "source": [
    "View the Model Summary"
   ]
  },
  {
   "cell_type": "code",
   "execution_count": 9,
   "id": "62693a97",
   "metadata": {
    "execution": {
     "iopub.execute_input": "2024-04-14T04:21:55.609586Z",
     "iopub.status.busy": "2024-04-14T04:21:55.609184Z",
     "iopub.status.idle": "2024-04-14T04:21:55.654152Z",
     "shell.execute_reply": "2024-04-14T04:21:55.653131Z"
    },
    "papermill": {
     "duration": 0.058221,
     "end_time": "2024-04-14T04:21:55.656389",
     "exception": false,
     "start_time": "2024-04-14T04:21:55.598168",
     "status": "completed"
    },
    "tags": []
   },
   "outputs": [
    {
     "data": {
      "text/html": [
       "<pre style=\"white-space:pre;overflow-x:auto;line-height:normal;font-family:Menlo,'DejaVu Sans Mono',consolas,'Courier New',monospace\"><span style=\"font-weight: bold\">Model: \"sequential\"</span>\n",
       "</pre>\n"
      ],
      "text/plain": [
       "\u001b[1mModel: \"sequential\"\u001b[0m\n"
      ]
     },
     "metadata": {},
     "output_type": "display_data"
    },
    {
     "data": {
      "text/html": [
       "<pre style=\"white-space:pre;overflow-x:auto;line-height:normal;font-family:Menlo,'DejaVu Sans Mono',consolas,'Courier New',monospace\">┏━━━━━━━━━━━━━━━━━━━━━━━━━━━━━━━━━┳━━━━━━━━━━━━━━━━━━━━━━━━┳━━━━━━━━━━━━━━━┓\n",
       "┃<span style=\"font-weight: bold\"> Layer (type)                    </span>┃<span style=\"font-weight: bold\"> Output Shape           </span>┃<span style=\"font-weight: bold\">       Param # </span>┃\n",
       "┡━━━━━━━━━━━━━━━━━━━━━━━━━━━━━━━━━╇━━━━━━━━━━━━━━━━━━━━━━━━╇━━━━━━━━━━━━━━━┩\n",
       "│ conv2d (<span style=\"color: #0087ff; text-decoration-color: #0087ff\">Conv2D</span>)                 │ (<span style=\"color: #00d7ff; text-decoration-color: #00d7ff\">None</span>, <span style=\"color: #00af00; text-decoration-color: #00af00\">126</span>, <span style=\"color: #00af00; text-decoration-color: #00af00\">126</span>, <span style=\"color: #00af00; text-decoration-color: #00af00\">16</span>)   │           <span style=\"color: #00af00; text-decoration-color: #00af00\">448</span> │\n",
       "├─────────────────────────────────┼────────────────────────┼───────────────┤\n",
       "│ conv2d_1 (<span style=\"color: #0087ff; text-decoration-color: #0087ff\">Conv2D</span>)               │ (<span style=\"color: #00d7ff; text-decoration-color: #00d7ff\">None</span>, <span style=\"color: #00af00; text-decoration-color: #00af00\">124</span>, <span style=\"color: #00af00; text-decoration-color: #00af00\">124</span>, <span style=\"color: #00af00; text-decoration-color: #00af00\">16</span>)   │         <span style=\"color: #00af00; text-decoration-color: #00af00\">2,320</span> │\n",
       "├─────────────────────────────────┼────────────────────────┼───────────────┤\n",
       "│ conv2d_2 (<span style=\"color: #0087ff; text-decoration-color: #0087ff\">Conv2D</span>)               │ (<span style=\"color: #00d7ff; text-decoration-color: #00d7ff\">None</span>, <span style=\"color: #00af00; text-decoration-color: #00af00\">122</span>, <span style=\"color: #00af00; text-decoration-color: #00af00\">122</span>, <span style=\"color: #00af00; text-decoration-color: #00af00\">16</span>)   │         <span style=\"color: #00af00; text-decoration-color: #00af00\">2,320</span> │\n",
       "├─────────────────────────────────┼────────────────────────┼───────────────┤\n",
       "│ max_pooling2d (<span style=\"color: #0087ff; text-decoration-color: #0087ff\">MaxPooling2D</span>)    │ (<span style=\"color: #00d7ff; text-decoration-color: #00d7ff\">None</span>, <span style=\"color: #00af00; text-decoration-color: #00af00\">61</span>, <span style=\"color: #00af00; text-decoration-color: #00af00\">61</span>, <span style=\"color: #00af00; text-decoration-color: #00af00\">16</span>)     │             <span style=\"color: #00af00; text-decoration-color: #00af00\">0</span> │\n",
       "├─────────────────────────────────┼────────────────────────┼───────────────┤\n",
       "│ dropout (<span style=\"color: #0087ff; text-decoration-color: #0087ff\">Dropout</span>)               │ (<span style=\"color: #00d7ff; text-decoration-color: #00d7ff\">None</span>, <span style=\"color: #00af00; text-decoration-color: #00af00\">61</span>, <span style=\"color: #00af00; text-decoration-color: #00af00\">61</span>, <span style=\"color: #00af00; text-decoration-color: #00af00\">16</span>)     │             <span style=\"color: #00af00; text-decoration-color: #00af00\">0</span> │\n",
       "├─────────────────────────────────┼────────────────────────┼───────────────┤\n",
       "│ conv2d_3 (<span style=\"color: #0087ff; text-decoration-color: #0087ff\">Conv2D</span>)               │ (<span style=\"color: #00d7ff; text-decoration-color: #00d7ff\">None</span>, <span style=\"color: #00af00; text-decoration-color: #00af00\">59</span>, <span style=\"color: #00af00; text-decoration-color: #00af00\">59</span>, <span style=\"color: #00af00; text-decoration-color: #00af00\">32</span>)     │         <span style=\"color: #00af00; text-decoration-color: #00af00\">4,640</span> │\n",
       "├─────────────────────────────────┼────────────────────────┼───────────────┤\n",
       "│ conv2d_4 (<span style=\"color: #0087ff; text-decoration-color: #0087ff\">Conv2D</span>)               │ (<span style=\"color: #00d7ff; text-decoration-color: #00d7ff\">None</span>, <span style=\"color: #00af00; text-decoration-color: #00af00\">57</span>, <span style=\"color: #00af00; text-decoration-color: #00af00\">57</span>, <span style=\"color: #00af00; text-decoration-color: #00af00\">32</span>)     │         <span style=\"color: #00af00; text-decoration-color: #00af00\">9,248</span> │\n",
       "├─────────────────────────────────┼────────────────────────┼───────────────┤\n",
       "│ conv2d_5 (<span style=\"color: #0087ff; text-decoration-color: #0087ff\">Conv2D</span>)               │ (<span style=\"color: #00d7ff; text-decoration-color: #00d7ff\">None</span>, <span style=\"color: #00af00; text-decoration-color: #00af00\">55</span>, <span style=\"color: #00af00; text-decoration-color: #00af00\">55</span>, <span style=\"color: #00af00; text-decoration-color: #00af00\">32</span>)     │         <span style=\"color: #00af00; text-decoration-color: #00af00\">9,248</span> │\n",
       "├─────────────────────────────────┼────────────────────────┼───────────────┤\n",
       "│ max_pooling2d_1 (<span style=\"color: #0087ff; text-decoration-color: #0087ff\">MaxPooling2D</span>)  │ (<span style=\"color: #00d7ff; text-decoration-color: #00d7ff\">None</span>, <span style=\"color: #00af00; text-decoration-color: #00af00\">27</span>, <span style=\"color: #00af00; text-decoration-color: #00af00\">27</span>, <span style=\"color: #00af00; text-decoration-color: #00af00\">32</span>)     │             <span style=\"color: #00af00; text-decoration-color: #00af00\">0</span> │\n",
       "├─────────────────────────────────┼────────────────────────┼───────────────┤\n",
       "│ dropout_1 (<span style=\"color: #0087ff; text-decoration-color: #0087ff\">Dropout</span>)             │ (<span style=\"color: #00d7ff; text-decoration-color: #00d7ff\">None</span>, <span style=\"color: #00af00; text-decoration-color: #00af00\">27</span>, <span style=\"color: #00af00; text-decoration-color: #00af00\">27</span>, <span style=\"color: #00af00; text-decoration-color: #00af00\">32</span>)     │             <span style=\"color: #00af00; text-decoration-color: #00af00\">0</span> │\n",
       "├─────────────────────────────────┼────────────────────────┼───────────────┤\n",
       "│ conv2d_6 (<span style=\"color: #0087ff; text-decoration-color: #0087ff\">Conv2D</span>)               │ (<span style=\"color: #00d7ff; text-decoration-color: #00d7ff\">None</span>, <span style=\"color: #00af00; text-decoration-color: #00af00\">25</span>, <span style=\"color: #00af00; text-decoration-color: #00af00\">25</span>, <span style=\"color: #00af00; text-decoration-color: #00af00\">64</span>)     │        <span style=\"color: #00af00; text-decoration-color: #00af00\">18,496</span> │\n",
       "├─────────────────────────────────┼────────────────────────┼───────────────┤\n",
       "│ conv2d_7 (<span style=\"color: #0087ff; text-decoration-color: #0087ff\">Conv2D</span>)               │ (<span style=\"color: #00d7ff; text-decoration-color: #00d7ff\">None</span>, <span style=\"color: #00af00; text-decoration-color: #00af00\">23</span>, <span style=\"color: #00af00; text-decoration-color: #00af00\">23</span>, <span style=\"color: #00af00; text-decoration-color: #00af00\">64</span>)     │        <span style=\"color: #00af00; text-decoration-color: #00af00\">36,928</span> │\n",
       "├─────────────────────────────────┼────────────────────────┼───────────────┤\n",
       "│ conv2d_8 (<span style=\"color: #0087ff; text-decoration-color: #0087ff\">Conv2D</span>)               │ (<span style=\"color: #00d7ff; text-decoration-color: #00d7ff\">None</span>, <span style=\"color: #00af00; text-decoration-color: #00af00\">21</span>, <span style=\"color: #00af00; text-decoration-color: #00af00\">21</span>, <span style=\"color: #00af00; text-decoration-color: #00af00\">64</span>)     │        <span style=\"color: #00af00; text-decoration-color: #00af00\">36,928</span> │\n",
       "├─────────────────────────────────┼────────────────────────┼───────────────┤\n",
       "│ max_pooling2d_2 (<span style=\"color: #0087ff; text-decoration-color: #0087ff\">MaxPooling2D</span>)  │ (<span style=\"color: #00d7ff; text-decoration-color: #00d7ff\">None</span>, <span style=\"color: #00af00; text-decoration-color: #00af00\">10</span>, <span style=\"color: #00af00; text-decoration-color: #00af00\">10</span>, <span style=\"color: #00af00; text-decoration-color: #00af00\">64</span>)     │             <span style=\"color: #00af00; text-decoration-color: #00af00\">0</span> │\n",
       "├─────────────────────────────────┼────────────────────────┼───────────────┤\n",
       "│ dropout_2 (<span style=\"color: #0087ff; text-decoration-color: #0087ff\">Dropout</span>)             │ (<span style=\"color: #00d7ff; text-decoration-color: #00d7ff\">None</span>, <span style=\"color: #00af00; text-decoration-color: #00af00\">10</span>, <span style=\"color: #00af00; text-decoration-color: #00af00\">10</span>, <span style=\"color: #00af00; text-decoration-color: #00af00\">64</span>)     │             <span style=\"color: #00af00; text-decoration-color: #00af00\">0</span> │\n",
       "├─────────────────────────────────┼────────────────────────┼───────────────┤\n",
       "│ conv2d_9 (<span style=\"color: #0087ff; text-decoration-color: #0087ff\">Conv2D</span>)               │ (<span style=\"color: #00d7ff; text-decoration-color: #00d7ff\">None</span>, <span style=\"color: #00af00; text-decoration-color: #00af00\">8</span>, <span style=\"color: #00af00; text-decoration-color: #00af00\">8</span>, <span style=\"color: #00af00; text-decoration-color: #00af00\">128</span>)      │        <span style=\"color: #00af00; text-decoration-color: #00af00\">73,856</span> │\n",
       "├─────────────────────────────────┼────────────────────────┼───────────────┤\n",
       "│ conv2d_10 (<span style=\"color: #0087ff; text-decoration-color: #0087ff\">Conv2D</span>)              │ (<span style=\"color: #00d7ff; text-decoration-color: #00d7ff\">None</span>, <span style=\"color: #00af00; text-decoration-color: #00af00\">6</span>, <span style=\"color: #00af00; text-decoration-color: #00af00\">6</span>, <span style=\"color: #00af00; text-decoration-color: #00af00\">128</span>)      │       <span style=\"color: #00af00; text-decoration-color: #00af00\">147,584</span> │\n",
       "├─────────────────────────────────┼────────────────────────┼───────────────┤\n",
       "│ conv2d_11 (<span style=\"color: #0087ff; text-decoration-color: #0087ff\">Conv2D</span>)              │ (<span style=\"color: #00d7ff; text-decoration-color: #00d7ff\">None</span>, <span style=\"color: #00af00; text-decoration-color: #00af00\">4</span>, <span style=\"color: #00af00; text-decoration-color: #00af00\">4</span>, <span style=\"color: #00af00; text-decoration-color: #00af00\">128</span>)      │       <span style=\"color: #00af00; text-decoration-color: #00af00\">147,584</span> │\n",
       "├─────────────────────────────────┼────────────────────────┼───────────────┤\n",
       "│ max_pooling2d_3 (<span style=\"color: #0087ff; text-decoration-color: #0087ff\">MaxPooling2D</span>)  │ (<span style=\"color: #00d7ff; text-decoration-color: #00d7ff\">None</span>, <span style=\"color: #00af00; text-decoration-color: #00af00\">2</span>, <span style=\"color: #00af00; text-decoration-color: #00af00\">2</span>, <span style=\"color: #00af00; text-decoration-color: #00af00\">128</span>)      │             <span style=\"color: #00af00; text-decoration-color: #00af00\">0</span> │\n",
       "├─────────────────────────────────┼────────────────────────┼───────────────┤\n",
       "│ flatten (<span style=\"color: #0087ff; text-decoration-color: #0087ff\">Flatten</span>)               │ (<span style=\"color: #00d7ff; text-decoration-color: #00d7ff\">None</span>, <span style=\"color: #00af00; text-decoration-color: #00af00\">512</span>)            │             <span style=\"color: #00af00; text-decoration-color: #00af00\">0</span> │\n",
       "├─────────────────────────────────┼────────────────────────┼───────────────┤\n",
       "│ dense (<span style=\"color: #0087ff; text-decoration-color: #0087ff\">Dense</span>)                   │ (<span style=\"color: #00d7ff; text-decoration-color: #00d7ff\">None</span>, <span style=\"color: #00af00; text-decoration-color: #00af00\">128</span>)            │        <span style=\"color: #00af00; text-decoration-color: #00af00\">65,664</span> │\n",
       "├─────────────────────────────────┼────────────────────────┼───────────────┤\n",
       "│ dropout_3 (<span style=\"color: #0087ff; text-decoration-color: #0087ff\">Dropout</span>)             │ (<span style=\"color: #00d7ff; text-decoration-color: #00d7ff\">None</span>, <span style=\"color: #00af00; text-decoration-color: #00af00\">128</span>)            │             <span style=\"color: #00af00; text-decoration-color: #00af00\">0</span> │\n",
       "├─────────────────────────────────┼────────────────────────┼───────────────┤\n",
       "│ dense_1 (<span style=\"color: #0087ff; text-decoration-color: #0087ff\">Dense</span>)                 │ (<span style=\"color: #00d7ff; text-decoration-color: #00d7ff\">None</span>, <span style=\"color: #00af00; text-decoration-color: #00af00\">6</span>)              │           <span style=\"color: #00af00; text-decoration-color: #00af00\">774</span> │\n",
       "└─────────────────────────────────┴────────────────────────┴───────────────┘\n",
       "</pre>\n"
      ],
      "text/plain": [
       "┏━━━━━━━━━━━━━━━━━━━━━━━━━━━━━━━━━┳━━━━━━━━━━━━━━━━━━━━━━━━┳━━━━━━━━━━━━━━━┓\n",
       "┃\u001b[1m \u001b[0m\u001b[1mLayer (type)                   \u001b[0m\u001b[1m \u001b[0m┃\u001b[1m \u001b[0m\u001b[1mOutput Shape          \u001b[0m\u001b[1m \u001b[0m┃\u001b[1m \u001b[0m\u001b[1m      Param #\u001b[0m\u001b[1m \u001b[0m┃\n",
       "┡━━━━━━━━━━━━━━━━━━━━━━━━━━━━━━━━━╇━━━━━━━━━━━━━━━━━━━━━━━━╇━━━━━━━━━━━━━━━┩\n",
       "│ conv2d (\u001b[38;5;33mConv2D\u001b[0m)                 │ (\u001b[38;5;45mNone\u001b[0m, \u001b[38;5;34m126\u001b[0m, \u001b[38;5;34m126\u001b[0m, \u001b[38;5;34m16\u001b[0m)   │           \u001b[38;5;34m448\u001b[0m │\n",
       "├─────────────────────────────────┼────────────────────────┼───────────────┤\n",
       "│ conv2d_1 (\u001b[38;5;33mConv2D\u001b[0m)               │ (\u001b[38;5;45mNone\u001b[0m, \u001b[38;5;34m124\u001b[0m, \u001b[38;5;34m124\u001b[0m, \u001b[38;5;34m16\u001b[0m)   │         \u001b[38;5;34m2,320\u001b[0m │\n",
       "├─────────────────────────────────┼────────────────────────┼───────────────┤\n",
       "│ conv2d_2 (\u001b[38;5;33mConv2D\u001b[0m)               │ (\u001b[38;5;45mNone\u001b[0m, \u001b[38;5;34m122\u001b[0m, \u001b[38;5;34m122\u001b[0m, \u001b[38;5;34m16\u001b[0m)   │         \u001b[38;5;34m2,320\u001b[0m │\n",
       "├─────────────────────────────────┼────────────────────────┼───────────────┤\n",
       "│ max_pooling2d (\u001b[38;5;33mMaxPooling2D\u001b[0m)    │ (\u001b[38;5;45mNone\u001b[0m, \u001b[38;5;34m61\u001b[0m, \u001b[38;5;34m61\u001b[0m, \u001b[38;5;34m16\u001b[0m)     │             \u001b[38;5;34m0\u001b[0m │\n",
       "├─────────────────────────────────┼────────────────────────┼───────────────┤\n",
       "│ dropout (\u001b[38;5;33mDropout\u001b[0m)               │ (\u001b[38;5;45mNone\u001b[0m, \u001b[38;5;34m61\u001b[0m, \u001b[38;5;34m61\u001b[0m, \u001b[38;5;34m16\u001b[0m)     │             \u001b[38;5;34m0\u001b[0m │\n",
       "├─────────────────────────────────┼────────────────────────┼───────────────┤\n",
       "│ conv2d_3 (\u001b[38;5;33mConv2D\u001b[0m)               │ (\u001b[38;5;45mNone\u001b[0m, \u001b[38;5;34m59\u001b[0m, \u001b[38;5;34m59\u001b[0m, \u001b[38;5;34m32\u001b[0m)     │         \u001b[38;5;34m4,640\u001b[0m │\n",
       "├─────────────────────────────────┼────────────────────────┼───────────────┤\n",
       "│ conv2d_4 (\u001b[38;5;33mConv2D\u001b[0m)               │ (\u001b[38;5;45mNone\u001b[0m, \u001b[38;5;34m57\u001b[0m, \u001b[38;5;34m57\u001b[0m, \u001b[38;5;34m32\u001b[0m)     │         \u001b[38;5;34m9,248\u001b[0m │\n",
       "├─────────────────────────────────┼────────────────────────┼───────────────┤\n",
       "│ conv2d_5 (\u001b[38;5;33mConv2D\u001b[0m)               │ (\u001b[38;5;45mNone\u001b[0m, \u001b[38;5;34m55\u001b[0m, \u001b[38;5;34m55\u001b[0m, \u001b[38;5;34m32\u001b[0m)     │         \u001b[38;5;34m9,248\u001b[0m │\n",
       "├─────────────────────────────────┼────────────────────────┼───────────────┤\n",
       "│ max_pooling2d_1 (\u001b[38;5;33mMaxPooling2D\u001b[0m)  │ (\u001b[38;5;45mNone\u001b[0m, \u001b[38;5;34m27\u001b[0m, \u001b[38;5;34m27\u001b[0m, \u001b[38;5;34m32\u001b[0m)     │             \u001b[38;5;34m0\u001b[0m │\n",
       "├─────────────────────────────────┼────────────────────────┼───────────────┤\n",
       "│ dropout_1 (\u001b[38;5;33mDropout\u001b[0m)             │ (\u001b[38;5;45mNone\u001b[0m, \u001b[38;5;34m27\u001b[0m, \u001b[38;5;34m27\u001b[0m, \u001b[38;5;34m32\u001b[0m)     │             \u001b[38;5;34m0\u001b[0m │\n",
       "├─────────────────────────────────┼────────────────────────┼───────────────┤\n",
       "│ conv2d_6 (\u001b[38;5;33mConv2D\u001b[0m)               │ (\u001b[38;5;45mNone\u001b[0m, \u001b[38;5;34m25\u001b[0m, \u001b[38;5;34m25\u001b[0m, \u001b[38;5;34m64\u001b[0m)     │        \u001b[38;5;34m18,496\u001b[0m │\n",
       "├─────────────────────────────────┼────────────────────────┼───────────────┤\n",
       "│ conv2d_7 (\u001b[38;5;33mConv2D\u001b[0m)               │ (\u001b[38;5;45mNone\u001b[0m, \u001b[38;5;34m23\u001b[0m, \u001b[38;5;34m23\u001b[0m, \u001b[38;5;34m64\u001b[0m)     │        \u001b[38;5;34m36,928\u001b[0m │\n",
       "├─────────────────────────────────┼────────────────────────┼───────────────┤\n",
       "│ conv2d_8 (\u001b[38;5;33mConv2D\u001b[0m)               │ (\u001b[38;5;45mNone\u001b[0m, \u001b[38;5;34m21\u001b[0m, \u001b[38;5;34m21\u001b[0m, \u001b[38;5;34m64\u001b[0m)     │        \u001b[38;5;34m36,928\u001b[0m │\n",
       "├─────────────────────────────────┼────────────────────────┼───────────────┤\n",
       "│ max_pooling2d_2 (\u001b[38;5;33mMaxPooling2D\u001b[0m)  │ (\u001b[38;5;45mNone\u001b[0m, \u001b[38;5;34m10\u001b[0m, \u001b[38;5;34m10\u001b[0m, \u001b[38;5;34m64\u001b[0m)     │             \u001b[38;5;34m0\u001b[0m │\n",
       "├─────────────────────────────────┼────────────────────────┼───────────────┤\n",
       "│ dropout_2 (\u001b[38;5;33mDropout\u001b[0m)             │ (\u001b[38;5;45mNone\u001b[0m, \u001b[38;5;34m10\u001b[0m, \u001b[38;5;34m10\u001b[0m, \u001b[38;5;34m64\u001b[0m)     │             \u001b[38;5;34m0\u001b[0m │\n",
       "├─────────────────────────────────┼────────────────────────┼───────────────┤\n",
       "│ conv2d_9 (\u001b[38;5;33mConv2D\u001b[0m)               │ (\u001b[38;5;45mNone\u001b[0m, \u001b[38;5;34m8\u001b[0m, \u001b[38;5;34m8\u001b[0m, \u001b[38;5;34m128\u001b[0m)      │        \u001b[38;5;34m73,856\u001b[0m │\n",
       "├─────────────────────────────────┼────────────────────────┼───────────────┤\n",
       "│ conv2d_10 (\u001b[38;5;33mConv2D\u001b[0m)              │ (\u001b[38;5;45mNone\u001b[0m, \u001b[38;5;34m6\u001b[0m, \u001b[38;5;34m6\u001b[0m, \u001b[38;5;34m128\u001b[0m)      │       \u001b[38;5;34m147,584\u001b[0m │\n",
       "├─────────────────────────────────┼────────────────────────┼───────────────┤\n",
       "│ conv2d_11 (\u001b[38;5;33mConv2D\u001b[0m)              │ (\u001b[38;5;45mNone\u001b[0m, \u001b[38;5;34m4\u001b[0m, \u001b[38;5;34m4\u001b[0m, \u001b[38;5;34m128\u001b[0m)      │       \u001b[38;5;34m147,584\u001b[0m │\n",
       "├─────────────────────────────────┼────────────────────────┼───────────────┤\n",
       "│ max_pooling2d_3 (\u001b[38;5;33mMaxPooling2D\u001b[0m)  │ (\u001b[38;5;45mNone\u001b[0m, \u001b[38;5;34m2\u001b[0m, \u001b[38;5;34m2\u001b[0m, \u001b[38;5;34m128\u001b[0m)      │             \u001b[38;5;34m0\u001b[0m │\n",
       "├─────────────────────────────────┼────────────────────────┼───────────────┤\n",
       "│ flatten (\u001b[38;5;33mFlatten\u001b[0m)               │ (\u001b[38;5;45mNone\u001b[0m, \u001b[38;5;34m512\u001b[0m)            │             \u001b[38;5;34m0\u001b[0m │\n",
       "├─────────────────────────────────┼────────────────────────┼───────────────┤\n",
       "│ dense (\u001b[38;5;33mDense\u001b[0m)                   │ (\u001b[38;5;45mNone\u001b[0m, \u001b[38;5;34m128\u001b[0m)            │        \u001b[38;5;34m65,664\u001b[0m │\n",
       "├─────────────────────────────────┼────────────────────────┼───────────────┤\n",
       "│ dropout_3 (\u001b[38;5;33mDropout\u001b[0m)             │ (\u001b[38;5;45mNone\u001b[0m, \u001b[38;5;34m128\u001b[0m)            │             \u001b[38;5;34m0\u001b[0m │\n",
       "├─────────────────────────────────┼────────────────────────┼───────────────┤\n",
       "│ dense_1 (\u001b[38;5;33mDense\u001b[0m)                 │ (\u001b[38;5;45mNone\u001b[0m, \u001b[38;5;34m6\u001b[0m)              │           \u001b[38;5;34m774\u001b[0m │\n",
       "└─────────────────────────────────┴────────────────────────┴───────────────┘\n"
      ]
     },
     "metadata": {},
     "output_type": "display_data"
    },
    {
     "data": {
      "text/html": [
       "<pre style=\"white-space:pre;overflow-x:auto;line-height:normal;font-family:Menlo,'DejaVu Sans Mono',consolas,'Courier New',monospace\"><span style=\"font-weight: bold\"> Total params: </span><span style=\"color: #00af00; text-decoration-color: #00af00\">556,038</span> (2.12 MB)\n",
       "</pre>\n"
      ],
      "text/plain": [
       "\u001b[1m Total params: \u001b[0m\u001b[38;5;34m556,038\u001b[0m (2.12 MB)\n"
      ]
     },
     "metadata": {},
     "output_type": "display_data"
    },
    {
     "data": {
      "text/html": [
       "<pre style=\"white-space:pre;overflow-x:auto;line-height:normal;font-family:Menlo,'DejaVu Sans Mono',consolas,'Courier New',monospace\"><span style=\"font-weight: bold\"> Trainable params: </span><span style=\"color: #00af00; text-decoration-color: #00af00\">556,038</span> (2.12 MB)\n",
       "</pre>\n"
      ],
      "text/plain": [
       "\u001b[1m Trainable params: \u001b[0m\u001b[38;5;34m556,038\u001b[0m (2.12 MB)\n"
      ]
     },
     "metadata": {},
     "output_type": "display_data"
    },
    {
     "data": {
      "text/html": [
       "<pre style=\"white-space:pre;overflow-x:auto;line-height:normal;font-family:Menlo,'DejaVu Sans Mono',consolas,'Courier New',monospace\"><span style=\"font-weight: bold\"> Non-trainable params: </span><span style=\"color: #00af00; text-decoration-color: #00af00\">0</span> (0.00 B)\n",
       "</pre>\n"
      ],
      "text/plain": [
       "\u001b[1m Non-trainable params: \u001b[0m\u001b[38;5;34m0\u001b[0m (0.00 B)\n"
      ]
     },
     "metadata": {},
     "output_type": "display_data"
    }
   ],
   "source": [
    "model.summary()"
   ]
  },
  {
   "cell_type": "markdown",
   "id": "b4fdf4bb",
   "metadata": {
    "papermill": {
     "duration": 0.010834,
     "end_time": "2024-04-14T04:21:55.678020",
     "exception": false,
     "start_time": "2024-04-14T04:21:55.667186",
     "status": "completed"
    },
    "tags": []
   },
   "source": [
    "**Complie** the Model using Adam Optimizers ***categorical_crossentropy***"
   ]
  },
  {
   "cell_type": "code",
   "execution_count": 10,
   "id": "c02355cb",
   "metadata": {
    "execution": {
     "iopub.execute_input": "2024-04-14T04:21:55.706643Z",
     "iopub.status.busy": "2024-04-14T04:21:55.706271Z",
     "iopub.status.idle": "2024-04-14T04:21:55.723079Z",
     "shell.execute_reply": "2024-04-14T04:21:55.721875Z"
    },
    "papermill": {
     "duration": 0.036822,
     "end_time": "2024-04-14T04:21:55.726134",
     "exception": false,
     "start_time": "2024-04-14T04:21:55.689312",
     "status": "completed"
    },
    "tags": []
   },
   "outputs": [],
   "source": [
    "from tensorflow.keras.optimizers import Adam\n",
    "model.compile(loss='categorical_crossentropy', optimizer='adam', metrics=['accuracy'])"
   ]
  },
  {
   "cell_type": "code",
   "execution_count": 11,
   "id": "847d0a5a",
   "metadata": {
    "execution": {
     "iopub.execute_input": "2024-04-14T04:21:55.750312Z",
     "iopub.status.busy": "2024-04-14T04:21:55.749877Z",
     "iopub.status.idle": "2024-04-14T04:21:55.754755Z",
     "shell.execute_reply": "2024-04-14T04:21:55.753664Z"
    },
    "papermill": {
     "duration": 0.019607,
     "end_time": "2024-04-14T04:21:55.757186",
     "exception": false,
     "start_time": "2024-04-14T04:21:55.737579",
     "status": "completed"
    },
    "tags": []
   },
   "outputs": [],
   "source": [
    "from keras.callbacks import EarlyStopping, ModelCheckpoint, ReduceLROnPlateau\n",
    "import h5py"
   ]
  },
  {
   "cell_type": "code",
   "execution_count": 12,
   "id": "40175099",
   "metadata": {
    "execution": {
     "iopub.execute_input": "2024-04-14T04:21:55.780999Z",
     "iopub.status.busy": "2024-04-14T04:21:55.780547Z",
     "iopub.status.idle": "2024-04-14T04:21:55.786064Z",
     "shell.execute_reply": "2024-04-14T04:21:55.785025Z"
    },
    "papermill": {
     "duration": 0.02033,
     "end_time": "2024-04-14T04:21:55.788365",
     "exception": false,
     "start_time": "2024-04-14T04:21:55.768035",
     "status": "completed"
    },
    "tags": []
   },
   "outputs": [],
   "source": [
    "early_stop = EarlyStopping(monitor='val_loss', patience=6, restore_best_weights=True)"
   ]
  },
  {
   "cell_type": "code",
   "execution_count": 13,
   "id": "1ce81f63",
   "metadata": {
    "execution": {
     "iopub.execute_input": "2024-04-14T04:21:55.813610Z",
     "iopub.status.busy": "2024-04-14T04:21:55.812654Z",
     "iopub.status.idle": "2024-04-14T04:21:55.819970Z",
     "shell.execute_reply": "2024-04-14T04:21:55.818368Z"
    },
    "papermill": {
     "duration": 0.025226,
     "end_time": "2024-04-14T04:21:55.824459",
     "exception": false,
     "start_time": "2024-04-14T04:21:55.799233",
     "status": "completed"
    },
    "tags": []
   },
   "outputs": [],
   "source": [
    "model_checkpoint = ModelCheckpoint(filepath='/kaggle/working/my_model.keras', monitor='val_loss', \n",
    "                                   save_best_only=True)\n"
   ]
  },
  {
   "cell_type": "code",
   "execution_count": 14,
   "id": "4094e14b",
   "metadata": {
    "execution": {
     "iopub.execute_input": "2024-04-14T04:21:55.854301Z",
     "iopub.status.busy": "2024-04-14T04:21:55.853721Z",
     "iopub.status.idle": "2024-04-14T04:21:55.859183Z",
     "shell.execute_reply": "2024-04-14T04:21:55.858041Z"
    },
    "papermill": {
     "duration": 0.024581,
     "end_time": "2024-04-14T04:21:55.861898",
     "exception": false,
     "start_time": "2024-04-14T04:21:55.837317",
     "status": "completed"
    },
    "tags": []
   },
   "outputs": [],
   "source": [
    "lr_late = ReduceLROnPlateau(monitor='val_loss', patience=3, factor=0.1)"
   ]
  },
  {
   "cell_type": "code",
   "execution_count": 15,
   "id": "74f3cd5b",
   "metadata": {
    "execution": {
     "iopub.execute_input": "2024-04-14T04:21:55.892892Z",
     "iopub.status.busy": "2024-04-14T04:21:55.892174Z",
     "iopub.status.idle": "2024-04-14T04:21:55.898731Z",
     "shell.execute_reply": "2024-04-14T04:21:55.897607Z"
    },
    "papermill": {
     "duration": 0.026155,
     "end_time": "2024-04-14T04:21:55.900922",
     "exception": false,
     "start_time": "2024-04-14T04:21:55.874767",
     "status": "completed"
    },
    "tags": []
   },
   "outputs": [
    {
     "data": {
      "text/plain": [
       "<_PrefetchDataset element_spec=(TensorSpec(shape=(None, 128, 128, 3), dtype=tf.float32, name=None), TensorSpec(shape=(None, 6), dtype=tf.float32, name=None))>"
      ]
     },
     "execution_count": 15,
     "metadata": {},
     "output_type": "execute_result"
    }
   ],
   "source": [
    "train_set"
   ]
  },
  {
   "cell_type": "code",
   "execution_count": 16,
   "id": "ae23ecb4",
   "metadata": {
    "execution": {
     "iopub.execute_input": "2024-04-14T04:21:55.924827Z",
     "iopub.status.busy": "2024-04-14T04:21:55.924359Z",
     "iopub.status.idle": "2024-04-14T04:21:55.931421Z",
     "shell.execute_reply": "2024-04-14T04:21:55.930432Z"
    },
    "papermill": {
     "duration": 0.02176,
     "end_time": "2024-04-14T04:21:55.933469",
     "exception": false,
     "start_time": "2024-04-14T04:21:55.911709",
     "status": "completed"
    },
    "tags": []
   },
   "outputs": [
    {
     "data": {
      "text/plain": [
       "<_PrefetchDataset element_spec=(TensorSpec(shape=(None, 128, 128, 3), dtype=tf.float32, name=None), TensorSpec(shape=(None, 6), dtype=tf.float32, name=None))>"
      ]
     },
     "execution_count": 16,
     "metadata": {},
     "output_type": "execute_result"
    }
   ],
   "source": [
    "test_set"
   ]
  },
  {
   "cell_type": "code",
   "execution_count": 17,
   "id": "03afc06f",
   "metadata": {
    "execution": {
     "iopub.execute_input": "2024-04-14T04:21:55.957394Z",
     "iopub.status.busy": "2024-04-14T04:21:55.957003Z",
     "iopub.status.idle": "2024-04-14T06:32:55.236428Z",
     "shell.execute_reply": "2024-04-14T06:32:55.234780Z"
    },
    "papermill": {
     "duration": 7859.294846,
     "end_time": "2024-04-14T06:32:55.239400",
     "exception": false,
     "start_time": "2024-04-14T04:21:55.944554",
     "status": "completed"
    },
    "tags": []
   },
   "outputs": [
    {
     "name": "stdout",
     "output_type": "stream",
     "text": [
      "Epoch 1/25\n",
      "\u001b[1m351/351\u001b[0m \u001b[32m━━━━━━━━━━━━━━━━━━━━\u001b[0m\u001b[37m\u001b[0m \u001b[1m313s\u001b[0m 876ms/step - accuracy: 0.2596 - loss: 1.6591 - val_accuracy: 0.4617 - val_loss: 1.2885 - learning_rate: 0.0010\n",
      "Epoch 2/25\n",
      "\u001b[1m351/351\u001b[0m \u001b[32m━━━━━━━━━━━━━━━━━━━━\u001b[0m\u001b[37m\u001b[0m \u001b[1m312s\u001b[0m 888ms/step - accuracy: 0.4781 - loss: 1.1496 - val_accuracy: 0.5317 - val_loss: 1.1250 - learning_rate: 0.0010\n",
      "Epoch 3/25\n",
      "\u001b[1m351/351\u001b[0m \u001b[32m━━━━━━━━━━━━━━━━━━━━\u001b[0m\u001b[37m\u001b[0m \u001b[1m315s\u001b[0m 897ms/step - accuracy: 0.5756 - loss: 1.0271 - val_accuracy: 0.5700 - val_loss: 1.0091 - learning_rate: 0.0010\n",
      "Epoch 4/25\n",
      "\u001b[1m351/351\u001b[0m \u001b[32m━━━━━━━━━━━━━━━━━━━━\u001b[0m\u001b[37m\u001b[0m \u001b[1m321s\u001b[0m 895ms/step - accuracy: 0.6155 - loss: 0.9435 - val_accuracy: 0.6100 - val_loss: 0.9727 - learning_rate: 0.0010\n",
      "Epoch 5/25\n",
      "\u001b[1m351/351\u001b[0m \u001b[32m━━━━━━━━━━━━━━━━━━━━\u001b[0m\u001b[37m\u001b[0m \u001b[1m312s\u001b[0m 889ms/step - accuracy: 0.6539 - loss: 0.8586 - val_accuracy: 0.6567 - val_loss: 0.8767 - learning_rate: 0.0010\n",
      "Epoch 6/25\n",
      "\u001b[1m351/351\u001b[0m \u001b[32m━━━━━━━━━━━━━━━━━━━━\u001b[0m\u001b[37m\u001b[0m \u001b[1m310s\u001b[0m 883ms/step - accuracy: 0.6924 - loss: 0.8072 - val_accuracy: 0.7367 - val_loss: 0.7138 - learning_rate: 0.0010\n",
      "Epoch 7/25\n",
      "\u001b[1m351/351\u001b[0m \u001b[32m━━━━━━━━━━━━━━━━━━━━\u001b[0m\u001b[37m\u001b[0m \u001b[1m322s\u001b[0m 883ms/step - accuracy: 0.7213 - loss: 0.7433 - val_accuracy: 0.7017 - val_loss: 0.7509 - learning_rate: 0.0010\n",
      "Epoch 8/25\n",
      "\u001b[1m351/351\u001b[0m \u001b[32m━━━━━━━━━━━━━━━━━━━━\u001b[0m\u001b[37m\u001b[0m \u001b[1m321s\u001b[0m 881ms/step - accuracy: 0.7480 - loss: 0.6916 - val_accuracy: 0.7533 - val_loss: 0.7576 - learning_rate: 0.0010\n",
      "Epoch 9/25\n",
      "\u001b[1m351/351\u001b[0m \u001b[32m━━━━━━━━━━━━━━━━━━━━\u001b[0m\u001b[37m\u001b[0m \u001b[1m310s\u001b[0m 882ms/step - accuracy: 0.7483 - loss: 0.6714 - val_accuracy: 0.7000 - val_loss: 0.7712 - learning_rate: 0.0010\n",
      "Epoch 10/25\n",
      "\u001b[1m351/351\u001b[0m \u001b[32m━━━━━━━━━━━━━━━━━━━━\u001b[0m\u001b[37m\u001b[0m \u001b[1m305s\u001b[0m 868ms/step - accuracy: 0.7994 - loss: 0.5552 - val_accuracy: 0.8000 - val_loss: 0.6087 - learning_rate: 1.0000e-04\n",
      "Epoch 11/25\n",
      "\u001b[1m351/351\u001b[0m \u001b[32m━━━━━━━━━━━━━━━━━━━━\u001b[0m\u001b[37m\u001b[0m \u001b[1m308s\u001b[0m 877ms/step - accuracy: 0.8127 - loss: 0.5096 - val_accuracy: 0.8067 - val_loss: 0.6118 - learning_rate: 1.0000e-04\n",
      "Epoch 12/25\n",
      "\u001b[1m351/351\u001b[0m \u001b[32m━━━━━━━━━━━━━━━━━━━━\u001b[0m\u001b[37m\u001b[0m \u001b[1m322s\u001b[0m 877ms/step - accuracy: 0.8261 - loss: 0.4835 - val_accuracy: 0.8050 - val_loss: 0.5868 - learning_rate: 1.0000e-04\n",
      "Epoch 13/25\n",
      "\u001b[1m351/351\u001b[0m \u001b[32m━━━━━━━━━━━━━━━━━━━━\u001b[0m\u001b[37m\u001b[0m \u001b[1m309s\u001b[0m 880ms/step - accuracy: 0.8301 - loss: 0.4714 - val_accuracy: 0.8083 - val_loss: 0.5928 - learning_rate: 1.0000e-04\n",
      "Epoch 14/25\n",
      "\u001b[1m351/351\u001b[0m \u001b[32m━━━━━━━━━━━━━━━━━━━━\u001b[0m\u001b[37m\u001b[0m \u001b[1m322s\u001b[0m 881ms/step - accuracy: 0.8337 - loss: 0.4664 - val_accuracy: 0.7983 - val_loss: 0.5999 - learning_rate: 1.0000e-04\n",
      "Epoch 15/25\n",
      "\u001b[1m351/351\u001b[0m \u001b[32m━━━━━━━━━━━━━━━━━━━━\u001b[0m\u001b[37m\u001b[0m \u001b[1m309s\u001b[0m 879ms/step - accuracy: 0.8382 - loss: 0.4478 - val_accuracy: 0.8217 - val_loss: 0.5775 - learning_rate: 1.0000e-04\n",
      "Epoch 16/25\n",
      "\u001b[1m351/351\u001b[0m \u001b[32m━━━━━━━━━━━━━━━━━━━━\u001b[0m\u001b[37m\u001b[0m \u001b[1m309s\u001b[0m 879ms/step - accuracy: 0.8400 - loss: 0.4391 - val_accuracy: 0.8217 - val_loss: 0.5619 - learning_rate: 1.0000e-04\n",
      "Epoch 17/25\n",
      "\u001b[1m351/351\u001b[0m \u001b[32m━━━━━━━━━━━━━━━━━━━━\u001b[0m\u001b[37m\u001b[0m \u001b[1m321s\u001b[0m 876ms/step - accuracy: 0.8410 - loss: 0.4309 - val_accuracy: 0.8250 - val_loss: 0.5606 - learning_rate: 1.0000e-04\n",
      "Epoch 18/25\n",
      "\u001b[1m351/351\u001b[0m \u001b[32m━━━━━━━━━━━━━━━━━━━━\u001b[0m\u001b[37m\u001b[0m \u001b[1m308s\u001b[0m 879ms/step - accuracy: 0.8499 - loss: 0.4163 - val_accuracy: 0.8017 - val_loss: 0.5941 - learning_rate: 1.0000e-04\n",
      "Epoch 19/25\n",
      "\u001b[1m351/351\u001b[0m \u001b[32m━━━━━━━━━━━━━━━━━━━━\u001b[0m\u001b[37m\u001b[0m \u001b[1m321s\u001b[0m 877ms/step - accuracy: 0.8553 - loss: 0.4050 - val_accuracy: 0.8033 - val_loss: 0.5847 - learning_rate: 1.0000e-04\n",
      "Epoch 20/25\n",
      "\u001b[1m351/351\u001b[0m \u001b[32m━━━━━━━━━━━━━━━━━━━━\u001b[0m\u001b[37m\u001b[0m \u001b[1m320s\u001b[0m 873ms/step - accuracy: 0.8580 - loss: 0.3992 - val_accuracy: 0.8050 - val_loss: 0.5918 - learning_rate: 1.0000e-04\n",
      "Epoch 21/25\n",
      "\u001b[1m351/351\u001b[0m \u001b[32m━━━━━━━━━━━━━━━━━━━━\u001b[0m\u001b[37m\u001b[0m \u001b[1m307s\u001b[0m 874ms/step - accuracy: 0.8633 - loss: 0.3834 - val_accuracy: 0.8200 - val_loss: 0.5542 - learning_rate: 1.0000e-05\n",
      "Epoch 22/25\n",
      "\u001b[1m351/351\u001b[0m \u001b[32m━━━━━━━━━━━━━━━━━━━━\u001b[0m\u001b[37m\u001b[0m \u001b[1m308s\u001b[0m 877ms/step - accuracy: 0.8562 - loss: 0.3812 - val_accuracy: 0.8167 - val_loss: 0.5549 - learning_rate: 1.0000e-05\n",
      "Epoch 23/25\n",
      "\u001b[1m351/351\u001b[0m \u001b[32m━━━━━━━━━━━━━━━━━━━━\u001b[0m\u001b[37m\u001b[0m \u001b[1m313s\u001b[0m 891ms/step - accuracy: 0.8652 - loss: 0.3752 - val_accuracy: 0.8200 - val_loss: 0.5470 - learning_rate: 1.0000e-05\n",
      "Epoch 24/25\n",
      "\u001b[1m351/351\u001b[0m \u001b[32m━━━━━━━━━━━━━━━━━━━━\u001b[0m\u001b[37m\u001b[0m \u001b[1m318s\u001b[0m 881ms/step - accuracy: 0.8637 - loss: 0.3776 - val_accuracy: 0.8200 - val_loss: 0.5499 - learning_rate: 1.0000e-05\n",
      "Epoch 25/25\n",
      "\u001b[1m351/351\u001b[0m \u001b[32m━━━━━━━━━━━━━━━━━━━━\u001b[0m\u001b[37m\u001b[0m \u001b[1m323s\u001b[0m 883ms/step - accuracy: 0.8693 - loss: 0.3684 - val_accuracy: 0.8200 - val_loss: 0.5542 - learning_rate: 1.0000e-05\n"
     ]
    }
   ],
   "source": [
    "hist = model.fit(train_set, shuffle=True, epochs=25, validation_data=test_set,\n",
    "                callbacks=[early_stop, model_checkpoint, lr_late], verbose=1)"
   ]
  },
  {
   "cell_type": "markdown",
   "id": "71cbf76b",
   "metadata": {
    "papermill": {
     "duration": 0.963429,
     "end_time": "2024-04-14T06:32:57.090470",
     "exception": false,
     "start_time": "2024-04-14T06:32:56.127041",
     "status": "completed"
    },
    "tags": []
   },
   "source": [
    "Plotting The Results"
   ]
  },
  {
   "cell_type": "code",
   "execution_count": 18,
   "id": "9138b4d3",
   "metadata": {
    "execution": {
     "iopub.execute_input": "2024-04-14T06:32:58.794174Z",
     "iopub.status.busy": "2024-04-14T06:32:58.793723Z",
     "iopub.status.idle": "2024-04-14T06:32:59.130904Z",
     "shell.execute_reply": "2024-04-14T06:32:59.130064Z"
    },
    "papermill": {
     "duration": 1.192782,
     "end_time": "2024-04-14T06:32:59.133161",
     "exception": false,
     "start_time": "2024-04-14T06:32:57.940379",
     "status": "completed"
    },
    "tags": []
   },
   "outputs": [
    {
     "data": {
      "image/png": "[encoded data removed]",
      "text/plain": [
       "<Figure size 640x480 with 1 Axes>"
      ]
     },
     "metadata": {},
     "output_type": "display_data"
    }
   ],
   "source": [
    "plt.plot(hist.history['loss'], color='blue', label='train')\n",
    "plt.plot(hist.history['val_loss'], color='red', label='train')\n",
    "plt.grid(True)\n",
    "plt.title('Train and Test loss with epochs\\n', fontsize=16)\n",
    "plt.xlabel('Training ephocs', fontsize=12)\n",
    "plt.ylabel('Train & Test loss', fontsize=12)\n",
    "plt.show();"
   ]
  },
  {
   "cell_type": "markdown",
   "id": "b83e8c4f",
   "metadata": {
    "papermill": {
     "duration": 0.856945,
     "end_time": "2024-04-14T06:33:00.948069",
     "exception": false,
     "start_time": "2024-04-14T06:33:00.091124",
     "status": "completed"
    },
    "tags": []
   },
   "source": [
    "Plotting results with accuracy"
   ]
  },
  {
   "cell_type": "code",
   "execution_count": 19,
   "id": "0421a66d",
   "metadata": {
    "execution": {
     "iopub.execute_input": "2024-04-14T06:33:02.699059Z",
     "iopub.status.busy": "2024-04-14T06:33:02.698337Z",
     "iopub.status.idle": "2024-04-14T06:33:02.982633Z",
     "shell.execute_reply": "2024-04-14T06:33:02.981314Z"
    },
    "papermill": {
     "duration": 1.149355,
     "end_time": "2024-04-14T06:33:02.985354",
     "exception": false,
     "start_time": "2024-04-14T06:33:01.835999",
     "status": "completed"
    },
    "tags": []
   },
   "outputs": [
    {
     "data": {
      "image/png": "[encoded data removed]",
      "text/plain": [
       "<Figure size 640x480 with 1 Axes>"
      ]
     },
     "metadata": {},
     "output_type": "display_data"
    }
   ],
   "source": [
    "plt.plot(hist.history['accuracy'], color='blue', label='train')\n",
    "plt.plot(hist.history['val_accuracy'], color='red', label='train')\n",
    "plt.grid(True)\n",
    "plt.title(\"Train & Test accuracy with epochs\\n\", fontsize=16)\n",
    "plt.xlabel(\"Training epochs\", fontsize=12)\n",
    "plt.ylabel(\"Train & Test accuracy\", fontsize=12)\n",
    "plt.show();"
   ]
  },
  {
   "cell_type": "code",
   "execution_count": 20,
   "id": "43d8b6a4",
   "metadata": {
    "execution": {
     "iopub.execute_input": "2024-04-14T06:33:04.810669Z",
     "iopub.status.busy": "2024-04-14T06:33:04.810004Z",
     "iopub.status.idle": "2024-04-14T06:33:09.923559Z",
     "shell.execute_reply": "2024-04-14T06:33:09.922506Z"
    },
    "papermill": {
     "duration": 5.98257,
     "end_time": "2024-04-14T06:33:09.926195",
     "exception": false,
     "start_time": "2024-04-14T06:33:03.943625",
     "status": "completed"
    },
    "tags": []
   },
   "outputs": [
    {
     "name": "stdout",
     "output_type": "stream",
     "text": [
      "\u001b[1m19/19\u001b[0m \u001b[32m━━━━━━━━━━━━━━━━━━━━\u001b[0m\u001b[37m\u001b[0m \u001b[1m4s\u001b[0m 196ms/step - accuracy: 0.8141 - loss: 0.5419\n"
     ]
    }
   ],
   "source": [
    "acc = model.evaluate(test_set, steps=len(test_set), verbose=1)"
   ]
  },
  {
   "cell_type": "code",
   "execution_count": null,
   "id": "aa24bc30",
   "metadata": {
    "papermill": {
     "duration": 0.866466,
     "end_time": "2024-04-14T06:33:11.711041",
     "exception": false,
     "start_time": "2024-04-14T06:33:10.844575",
     "status": "completed"
    },
    "tags": []
   },
   "outputs": [],
   "source": []
  }
 ],
 "metadata": {
  "kaggle": {
   "accelerator": "none",
   "dataSources": [
    {
     "datasetId": 4785214,
     "sourceId": 8102609,
     "sourceType": "datasetVersion"
    }
   ],
   "dockerImageVersionId": 30684,
   "isGpuEnabled": false,
   "isInternetEnabled": false,
   "language": "python",
   "sourceType": "notebook"
  },
  "kernelspec": {
   "display_name": "Python 3",
   "language": "python",
   "name": "python3"
  },
  "language_info": {
   "codemirror_mode": {
    "name": "ipython",
    "version": 3
   },
   "file_extension": ".py",
   "mimetype": "text/x-python",
   "name": "python",
   "nbconvert_exporter": "python",
   "pygments_lexer": "ipython3",
   "version": "3.10.13"
  },
  "papermill": {
   "default_parameters": {},
   "duration": 7908.757406,
   "end_time": "2024-04-14T06:33:15.273984",
   "environment_variables": {},
   "exception": null,
   "input_path": "__notebook__.ipynb",
   "output_path": "__notebook__.ipynb",
   "parameters": {},
   "start_time": "2024-04-14T04:21:26.516578",
   "version": "2.5.0"
  }
 },
 "nbformat": 4,
 "nbformat_minor": 5
}
